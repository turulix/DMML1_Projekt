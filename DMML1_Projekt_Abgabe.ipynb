{
 "cells": [
  {
   "cell_type": "markdown",
   "id": "c5da9e90-94a6-48ad-9ce8-952df57bb3b1",
   "metadata": {},
   "source": [
    "# Das Projekt\n",
    "\n",
    "#### Gruppenmitglieder: Tim Reimer, Markus Roos, Ronja Schwarz"
   ]
  },
  {
   "cell_type": "markdown",
   "id": "84984ef3-af12-40ab-8b2d-1a968cd4c636",
   "metadata": {},
   "source": [
    "#### Szenario:\n",
    "Eine große Supermarktkette betreibt 300 Filialen in Deutschland. Als Grundlage für die Personalplanung muss für jede Filiale entschieden werden, wie viele MitarbeiterInnen an einem bestimmten Tag in der\n",
    "Filiale sein müssen. Der Bedarf richtet sich dabei nach der erwarteten Anzahl von Kunden bzw. dem erwarteten Umsatz. Bisher wird der Bedarf individuell von den FilialleiterInnen ermittelt. In dieser Aufgabe soll anhand von historischen Umsatzzahlen, Filial-, Angebots- und Wettbewerberdaten ein Modell entwickelt werden, das für jede Filiale den erwarteten Umsatz möglichst gut vorhersagt und damit allen FilialleiterInnen eine passgenaue Personalplanung ermöglicht."
   ]
  },
  {
   "cell_type": "markdown",
   "id": "cc559dac-1bb5-4761-a5e0-124242af6c62",
   "metadata": {},
   "source": [
    "## Import der benötigten Bibliotheken"
   ]
  },
  {
   "cell_type": "code",
   "execution_count": null,
   "id": "d1ebc748-94bb-4e09-85dd-2066d8cd5d48",
   "metadata": {},
   "outputs": [],
   "source": [
    "import numpy as np\n",
    "import pandas as pd"
   ]
  },
  {
   "cell_type": "markdown",
   "id": "df1add0c-b143-455f-a7f1-f2574c77b81a",
   "metadata": {},
   "source": [
    "### Import CSV-Dateien"
   ]
  },
  {
   "cell_type": "code",
   "execution_count": null,
   "id": "5b149a17-6d30-4774-98a0-1d75fc4d3b61",
   "metadata": {},
   "outputs": [],
   "source": [
    "df_stores = pd.read_csv('./data/dmml1_stores.csv')\n",
    "df_test = pd.read_csv('./data/dmml1_test.csv')\n",
    "df_train = pd.read_csv('./data/dmml1_train.csv')"
   ]
  },
  {
   "cell_type": "markdown",
   "id": "f51a7e3a-c015-4be4-91b4-e2bba279061e",
   "metadata": {},
   "source": [
    "## 2.1 Aufgaben\n",
    "Für die Entwicklung des Modells muss der gesamte Machine Learning Workflow durchlaufen werden,\n",
    "von der Datenvorverarbeitung und -analyse über das Modelltraining verschiedener Modelle bis zur Auswertung der Modellgüte.\n",
    "Bearbeiten Sie dazu folgende Aufgaben:"
   ]
  },
  {
   "cell_type": "markdown",
   "id": "9d7e02c3-a381-4dee-b2f6-98919bf0532c",
   "metadata": {},
   "source": [
    "### Aufgabe 1 (10 Punkte)\n",
    "Untersuchen Sie die Daten. Beantworten Sie dabei folgende Fragen bzw. Aufgaben:"
   ]
  },
  {
   "cell_type": "markdown",
   "id": "e5da3948-b9f7-4ac7-9fdb-845c8577070b",
   "metadata": {},
   "source": [
    "1. Wie viele Datenpunkte gibt es pro Store?"
   ]
  },
  {
   "cell_type": "code",
   "execution_count": null,
   "id": "32972e5a-91b3-4cbc-91e5-7fe154bd6437",
   "metadata": {},
   "outputs": [],
   "source": []
  },
  {
   "cell_type": "markdown",
   "id": "cb594b09-0b4d-4134-98e4-11693cca6ad2",
   "metadata": {},
   "source": [
    "2. Visualisieren Sie die Verteilung der Verkaufszahlen für einige zufällig ausgewählte Stores und beschreiben Sie typische Muster, die Sie erkennen."
   ]
  },
  {
   "cell_type": "code",
   "execution_count": null,
   "id": "6a5617fe-ce69-4328-885c-05f284b2031d",
   "metadata": {},
   "outputs": [],
   "source": []
  },
  {
   "cell_type": "markdown",
   "id": "766a8df8-97bb-45f9-8028-362ee85571b9",
   "metadata": {},
   "source": [
    "3. Beschreiben Sie einige prägnante Zusammenhänge, die Ihnen zwischen verschiedenen Features auffallen."
   ]
  },
  {
   "cell_type": "code",
   "execution_count": null,
   "id": "46517d36-73d9-494a-8232-89b382291b1c",
   "metadata": {},
   "outputs": [],
   "source": []
  },
  {
   "cell_type": "markdown",
   "id": "ad7cc704-37ec-475b-8ccd-738421727014",
   "metadata": {},
   "source": [
    "### Aufgabe 2 (10 Punkte)\n",
    "Führen Sie geeignete Vorverarbeitungsschritte durch, z.B. Behandlung von Ausreißern und fehlenden\n",
    "Werten, Skalierung der Features.\n",
    "\n",
    "Durchgeführt Vorverarbeitungsschritte:\n",
    "- dmml1_train.csv\n",
    "  - ```dmml1_train['Date']``` zu Datum umwandeln, Format wurde beibehalten"
   ]
  },
  {
   "cell_type": "code",
   "execution_count": null,
   "id": "95e702cd-8cf0-4b05-bc50-16a1fb39d570",
   "metadata": {},
   "outputs": [],
   "source": [
    "df_train['Date'] = pd.to_datetime(df_train['Date'], format='%Y-%m-%d')"
   ]
  },
  {
   "cell_type": "markdown",
   "id": "93d895c4-f3b0-4265-8a74-a95776225de6",
   "metadata": {},
   "source": [
    "### Aufgabe 3 (15 Punkte)\n",
    "Generieren Sie neue Features, die für die Vorhersage des Umsatzes aussagekräftig sein könnten."
   ]
  },
  {
   "cell_type": "code",
   "execution_count": null,
   "id": "687692fe-3e1c-422e-b3aa-c930552fd4db",
   "metadata": {},
   "outputs": [],
   "source": []
  },
  {
   "cell_type": "markdown",
   "id": "5dfb8c84-48d3-44ff-a10f-d0ff1880a391",
   "metadata": {},
   "source": [
    "### Aufgabe 4 (30 Punkte)\n",
    "Trainieren Sie drei verschiedene Modelle, die in der Vorlesung behandelt wurden: ein lineares Modell (einfache lineare Regression, Ridge, Lasso), einen Entscheidungsbaum und ein Ensemble-Modell (Gradient Boosting oder Random Forest)"
   ]
  },
  {
   "cell_type": "markdown",
   "id": "6e0c64b4-d982-46dd-9156-420ed9c14d1f",
   "metadata": {},
   "source": [
    "1. Optimieren sie Hyperparameter der Modelle mittels Suche und Kreuzvalidierung. Überlegen Sie dazu zunächst (mit Hilfe der Vorlesungsunterlagen und der Dokumentation der Methoden in scikit-learn), was für die jeweiligen Modelle Hyperparameter sind und für welche sich eine Optimierung ggf. lohnen könnte."
   ]
  },
  {
   "cell_type": "code",
   "execution_count": null,
   "id": "658da2ee-7815-41d4-b971-f13cb69720e5",
   "metadata": {},
   "outputs": [],
   "source": []
  },
  {
   "cell_type": "markdown",
   "id": "480ada71-c882-4a36-9ab6-6452eaf62b15",
   "metadata": {},
   "source": [
    "2. Welches sind die wichtigsten Features für die jeweiligen Modelle?"
   ]
  },
  {
   "cell_type": "code",
   "execution_count": null,
   "id": "6b85758e-b7c4-4cde-a597-27eae39ecfc1",
   "metadata": {},
   "outputs": [],
   "source": []
  },
  {
   "cell_type": "markdown",
   "id": "3e5d6f2a-f85e-4712-926b-aaf12223dea1",
   "metadata": {},
   "source": [
    "### Aufgabe 5 (15 Punkte)\n",
    "Das Ziel der Modelle ist es, die FilialleiterInnen bei der Erstellung der Schichtpläne zu unterstützen.\n",
    "Dazu leiten diese aus der Umsatzvorhersage ihres Modells einen Bedarf an MitarbeiterInnen ab, die an\n",
    "diesem Tag zur Schicht eingeteilt werden. Wenn die Umsatzvorhersage deutlich höher ist als der tatsächliche Umsatz, so werden zu viele Mitarbeiter in der Filiale sein und es entstehen unnötige Lohnkosten. Nehmen Sie an, dass pro Tag, an dem die Vorhersage den tatsächlichen Umsatz um mehr als 3000\n",
    "EUR überschätzt 150 EUR Kosten (zusätzliche Lohnkosten) anfallen. Wenn die Vorhersage um mehr\n",
    "als 6000 EUR höher liegt, betragen die Kosten sogar 250 EUR. Falls die Vorhersage den tatsächlichen\n",
    "Umsatz unterschätzt, so sind die Kosten schwieriger zu quantifizieren. Darunter fallen Kosten für etwaige Überstunden aber auch Kosten durch Unzufriedenheit der Kunden und der Mitarbeiter (da z.B.\n",
    "lange Wartezeiten in Kauf genommen werden müssen), die sich langfristig negativ auswirken. Nehmen\n",
    "Sie vereinfachend an, dass 100 EUR Kosten entstehen, wenn das Modell den Umsatz um mehr als 4000\n",
    "EUR unterschätzt. Welches ihrer Modelle wird nach diesen Annahmen voraussichtlich die geringsten\n",
    "Gesamtkosten verursachen?"
   ]
  },
  {
   "cell_type": "code",
   "execution_count": null,
   "id": "f38af55d-bc6b-4c9a-b09f-6356e944e36a",
   "metadata": {},
   "outputs": [],
   "source": []
  },
  {
   "cell_type": "markdown",
   "id": "9d5728b4-117c-4266-b79f-544bec8aa8e7",
   "metadata": {},
   "source": [
    "### Aufgabe 6 (20 Punkte)\n",
    "Erstellen Sie eine Vorhersage für die Testdaten mit dem besten Modell (bezüglich ihrer Metrik aus der\n",
    "vorherigen Aufgabe). Geben Sie diese Vorhersage als .csv Datei mit ab. Fügen Sie dazu einfach eine\n",
    "Spalte Sales zur Datei dmml1_test.csv hinzu."
   ]
  },
  {
   "cell_type": "code",
   "execution_count": null,
   "id": "d3930f7f-d0f7-4ad0-bbb6-d8a66c65956a",
   "metadata": {},
   "outputs": [],
   "source": []
  }
 ],
 "metadata": {
  "kernelspec": {
   "display_name": "Python 3 (ipykernel)",
   "language": "python",
   "name": "python3"
  },
  "language_info": {
   "codemirror_mode": {
    "name": "ipython",
    "version": 3
   },
   "file_extension": ".py",
   "mimetype": "text/x-python",
   "name": "python",
   "nbconvert_exporter": "python",
   "pygments_lexer": "ipython3",
   "version": "3.10.12"
  }
 },
 "nbformat": 4,
 "nbformat_minor": 5
}
