{
 "cells": [
  {
   "cell_type": "markdown",
   "id": "f33aed89-63a4-40ad-bd3c-46253a46aa41",
   "metadata": {},
   "source": [
    "# Das Projekt\r\n",
    "Eine große Supermarktkette betreibt 300 Filialen in Deutschland. Als Grundlage für die Personalplanung\r\n",
    "muss für jede Filiale entschieden werden, wie viele MitarbeiterInnen an einem bestimmten Tag in der\r\n",
    "Filiale sein müssen. Der Bedarf richtet sich dabei nach der erwarteten Anzahl von Kunden bzw. dem\r\n",
    "erwarteten Umsatz. Bisher wird der Bedarf individuell von den FilialleiterInnen ermittelt.\r\n",
    "In dieser Aufgabe soll anhand von historischen Umsatzzahlen, Filial-, Angebots- und Wettbewerberdaten ein Modell entwickelt werden, das für jede Filiale den erwarteten Umsatz möglichst gut vorhersagt\r\n",
    "und damit allen FilialleiterInnen eine passgenaue Personalplanung ermögSpalte Sales zur Datei dmml1_test.csv hinzu.\r"
   ]
  },
  {
   "cell_type": "markdown",
   "id": "f51a7e3a-c015-4be4-91b4-e2bba279061e",
   "metadata": {},
   "source": [
    "## 2.1 Aufgaben\n",
    "Für die Entwicklung des Modells muss der gesamte Machine Learning Workflow durchlaufen werden,\n",
    "von der Datenvorverarbeitung und -analyse über das Modelltraining verschiedener Modelle bis zur Auswertung der Modellgüte.\n",
    "Bearbeiten Sie dazu folgende Aufgaben:"
   ]
  },
  {
   "cell_type": "markdown",
   "id": "9d7e02c3-a381-4dee-b2f6-98919bf0532c",
   "metadata": {},
   "source": [
    "### Aufgabe 1 (10 Punkte)\n",
    "Untersuchen Sie die Daten. Beantworten Sie dabei folgende Fragen bzw. Aufgaben:\n",
    "1. Wie viele Datenpunkte gibt es pro Store?\n",
    "2. Visualisieren Sie die Verteilung der Verkaufszahlen für einige zufällig ausgewählte Stores und beschreiben Sie typische Muster, die Sie erkennen.\n",
    "3. Beschreiben Sie einige prägnante Zusammenhänge, die Ihnen zwischen verschiedenen Features\n",
    "auffallen."
   ]
  },
  {
   "cell_type": "markdown",
   "id": "ad7cc704-37ec-475b-8ccd-738421727014",
   "metadata": {},
   "source": [
    "### Aufgabe 2 (10 Punkte)\n",
    "Führen Sie geeignete Vorverarbeitungsschritte durch, z.B. Behandlung von Ausreißern und fehlenden\n",
    "Werten, Skalierung der Features."
   ]
  },
  {
   "cell_type": "markdown",
   "id": "93d895c4-f3b0-4265-8a74-a95776225de6",
   "metadata": {},
   "source": [
    "### Aufgabe 3 (15 Punkte)\n",
    "Generieren Sie neue Features, die für die Vorhersage des Umsatzes aussagekräftig sein könnten."
   ]
  },
  {
   "cell_type": "markdown",
   "id": "5dfb8c84-48d3-44ff-a10f-d0ff1880a391",
   "metadata": {},
   "source": [
    "### Aufgabe 4 (30 Punkte)\n",
    "Trainieren Sie drei verschiedene Modelle, die in der Vorlesung behandelt wurden: ein lineares Modell\n",
    "(einfache lineare Regression, Ridge, Lasso), einen Entscheidungsbaum und ein Ensemble-Modell (Gradient Boosting oder Random Forest)\n",
    "1. Optimieren sie Hyperparameter der Modelle mittels Suche und Kreuzvalidierung. Überlegen Sie\n",
    "dazu zunächst (mit Hilfe der Vorlesungsunterlagen und der Dokumentation der Methoden in\n",
    "scikit-learn ), was für die jeweiligen Modelle Hyperparameter sind und für welche sich eine\n",
    "Optimierung ggf. lohnen könnte.\n",
    "2. Welches sind die wichtigsten Features für die jeweiligen Modelle?"
   ]
  },
  {
   "cell_type": "markdown",
   "id": "3e5d6f2a-f85e-4712-926b-aaf12223dea1",
   "metadata": {},
   "source": [
    "### Aufgabe 5 (15 Punkte)\n",
    "Das Ziel der Modelle ist es, die FilialleiterInnen bei der Erstellung der Schichtpläne zu unterstützen.\n",
    "Dazu leiten diese aus der Umsatzvorhersage ihres Modells einen Bedarf an MitarbeiterInnen ab, die an\n",
    "diesem Tag zur Schicht eingeteilt werden. Wenn die Umsatzvorhersage deutlich höher ist als der tatsächliche Umsatz, so werden zu viele Mitarbeiter in der Filiale sein und es entstehen unnötige Lohnkosten. Nehmen Sie an, dass pro Tag, an dem die Vorhersage den tatsächlichen Umsatz um mehr als 3000\n",
    "EUR überschätzt 150 EUR Kosten (zusätzliche Lohnkosten) anfallen. Wenn die Vorhersage um mehr\n",
    "als 6000 EUR höher liegt, betragen die Kosten sogar 250 EUR. Falls die Vorhersage den tatsächlichen\n",
    "Umsatz unterschätzt, so sind die Kosten schwieriger zu quantifizieren. Darunter fallen Kosten für etwaige Überstunden aber auch Kosten durch Unzufriedenheit der Kunden und der Mitarbeiter (da z.B.\n",
    "lange Wartezeiten in Kauf genommen werden müssen), die sich langfristig negativ auswirken. Nehmen\n",
    "Sie vereinfachend an, dass 100 EUR Kosten entstehen, wenn das Modell den Umsatz um mehr als 4000\n",
    "EUR unterschätzt. Welches ihrer Modelle wird nach diesen Annahmen voraussichtlich die geringsten\n",
    "Gesamtkosten verursachen?"
   ]
  },
  {
   "cell_type": "markdown",
   "id": "9d5728b4-117c-4266-b79f-544bec8aa8e7",
   "metadata": {},
   "source": [
    "### Aufgabe 6 (20 Punkte)\n",
    "Erstellen Sie eine Vorhersage für die Testdaten mit dem besten Modell (bezüglich ihrer Metrik aus der\n",
    "vorherigen Aufgabe). Geben Sie diese Vorhersage als .csv Datei mit ab. Fügen Sie dazu einfach eine\n",
    "Spalte Sales zur Datei dmml1_test.csv hinzu."
   ]
  },
  {
   "cell_type": "code",
   "execution_count": null,
   "id": "d3930f7f-d0f7-4ad0-bbb6-d8a66c65956a",
   "metadata": {},
   "outputs": [],
   "source": []
  }
 ],
 "metadata": {
  "kernelspec": {
   "display_name": "Python 3 (ipykernel)",
   "language": "python",
   "name": "python3"
  },
  "language_info": {
   "codemirror_mode": {
    "name": "ipython",
    "version": 3
   },
   "file_extension": ".py",
   "mimetype": "text/x-python",
   "name": "python",
   "nbconvert_exporter": "python",
   "pygments_lexer": "ipython3",
   "version": "3.10.12"
  }
 },
 "nbformat": 4,
 "nbformat_minor": 5
}
